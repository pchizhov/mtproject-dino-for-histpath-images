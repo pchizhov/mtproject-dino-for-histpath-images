{
 "cells": [
  {
   "cell_type": "code",
   "execution_count": 1,
   "id": "8310c753",
   "metadata": {},
   "outputs": [],
   "source": [
    "import os\n",
    "import numpy as np\n",
    "from tqdm import tqdm\n",
    "from PIL import Image\n",
    "from pathlib import Path\n",
    "from typing import List, Set\n",
    "from openslide import OpenSlide"
   ]
  },
  {
   "cell_type": "code",
   "execution_count": 2,
   "id": "cb6fd3c6",
   "metadata": {},
   "outputs": [],
   "source": [
    "def load_mrxs_files(folder: str) -> Set[Path]:\n",
    "    return set([str(path) for path in Path(folder).rglob(\"*.mrxs\")])\n",
    "\n",
    "\n",
    "def read_slides(folders: List[str]) -> List[OpenSlide]:\n",
    "    data_files = set()\n",
    "    for folder in folders:\n",
    "        data_files |= load_mrxs_files(folder)\n",
    "    return [OpenSlide(file) for file in data_files]"
   ]
  },
  {
   "cell_type": "code",
   "execution_count": 3,
   "id": "78189f6f",
   "metadata": {},
   "outputs": [],
   "source": [
    "data_files = load_mrxs_files('../testis')"
   ]
  },
  {
   "cell_type": "code",
   "execution_count": 4,
   "id": "0286cd17",
   "metadata": {},
   "outputs": [
    {
     "data": {
      "text/plain": [
       "{'../testis/40x/18H14294I.mrxs',\n",
       " '../testis/40x/18H14294II.mrxs',\n",
       " '../testis/40x/19H11010_0111.mrxs',\n",
       " '../testis/40x/19H16747_0110.mrxs',\n",
       " '../testis/40x_2/19,H,11010,_,01,1,1.mrxs',\n",
       " '../testis/40x_2/H,08838_20210303140504384.mrxs',\n",
       " '../testis/40x_2/H,15131.mrxs',\n",
       " '../testis/H,00973.mrxs'}"
      ]
     },
     "execution_count": 4,
     "metadata": {},
     "output_type": "execute_result"
    }
   ],
   "source": [
    "data_files"
   ]
  },
  {
   "cell_type": "code",
   "execution_count": 5,
   "id": "21a8c430",
   "metadata": {},
   "outputs": [],
   "source": [
    "slides = [OpenSlide(file) for file in data_files]"
   ]
  },
  {
   "cell_type": "code",
   "execution_count": 6,
   "id": "5fdac545",
   "metadata": {},
   "outputs": [
    {
     "name": "stdout",
     "output_type": "stream",
     "text": [
      "Levels: 10\n",
      "LVL 0 -   177152 X 416768 px\n",
      "LVL 1 -    88576 X 208384 px\n",
      "LVL 2 -    44288 X 104192 px\n",
      "LVL 3 -    22144 X 52096 px\n",
      "LVL 4 -    11072 X 26048 px\n",
      "LVL 5 -     5536 X 13024 px\n",
      "LVL 6 -     2768 X 6512 px\n",
      "LVL 7 -     1384 X 3256 px\n",
      "LVL 8 -      692 X 1628 px\n",
      "LVL 9 -      346 X 814 px\n"
     ]
    }
   ],
   "source": [
    "slide = slides[0]\n",
    "print(f'Levels: {slide.level_count}')\n",
    "for i, dimensions in enumerate(slide.level_dimensions):\n",
    "    print(f'LVL {i} - {dimensions[0]:8d} X {dimensions[1]} px')"
   ]
  },
  {
   "cell_type": "code",
   "execution_count": 7,
   "id": "ab0804cf",
   "metadata": {},
   "outputs": [],
   "source": [
    "def is_gray(color: tuple):\n",
    "    (r, g, b, a) = color\n",
    "    diffs = map(abs, (r-g, r-b, g-b))\n",
    "    return a == 0 or all(diff <= 10 for diff in diffs)\n",
    "\n",
    "\n",
    "def is_useful_tile(tile: Image) -> bool:\n",
    "    tile_copy = tile.copy()\n",
    "    tile_copy.thumbnail((32, 32))\n",
    "    _, most_frequent_color = max(tile_copy.getcolors(maxcolors=1024), key=lambda x: x[0])\n",
    "    return not is_gray(most_frequent_color)"
   ]
  },
  {
   "cell_type": "code",
   "execution_count": 8,
   "id": "34da9817",
   "metadata": {},
   "outputs": [],
   "source": [
    "def crop_slide_by_grid(\n",
    "        slide: OpenSlide,\n",
    "        level: int,\n",
    "        size: tuple,\n",
    "        overlap: float,\n",
    "        destination_path: str\n",
    "    ):\n",
    "    tile_size_x, tile_size_y = size\n",
    "    full_size_x, full_size_y = slide.level_dimensions[level]\n",
    "    filename_prefix = slide._filename.split('/')[-1].replace('.mrxs', '')\n",
    "    stride_x = int(tile_size_x * (1 - overlap))\n",
    "    stride_y = int(tile_size_y * (1 - overlap))\n",
    "    n_x = (full_size_x - tile_size_x) // stride_x + 1\n",
    "    n_y = (full_size_y - tile_size_y) // stride_y + 1\n",
    "    estimated_number = n_x * n_y\n",
    "    d = int(np.ceil(np.log10(estimated_number)))\n",
    "    saved_number = 0\n",
    "    for i in range(n_x):\n",
    "        for j in range(n_y):\n",
    "            top_left = (i * stride_x * 2 ** level, j * stride_y * 2 ** level)\n",
    "            tile = slide.read_region(\n",
    "                location=top_left,\n",
    "                level=level,\n",
    "                size=size\n",
    "            )\n",
    "            if is_useful_tile(tile):\n",
    "                tile.save(os.path.join(destination_path, f'{filename_prefix}_{saved_number:0{d}}_{level}.png'))\n",
    "                saved_number += 1"
   ]
  },
  {
   "cell_type": "code",
   "execution_count": 9,
   "id": "d18abe57",
   "metadata": {},
   "outputs": [],
   "source": [
    "def crop_slides_rejection_sampling(\n",
    "        slides: List[OpenSlide], \n",
    "        level: int, \n",
    "        size: tuple, \n",
    "        destination_path: str, \n",
    "        number: int\n",
    "    ):\n",
    "    tile_size_x, tile_size_y = size\n",
    "    saved_number = 0\n",
    "    d = int(np.ceil(np.log10(number)))\n",
    "    with tqdm(total=number) as progress:\n",
    "        while saved_number < number:\n",
    "            slide = np.random.choice(slides)\n",
    "            filename_prefix = slide._filename.split('/')[-1].replace('.mrxs', '')\n",
    "            full_size_x, full_size_y = slide.level_dimensions[level]\n",
    "            top_left_x = np.random.choice(full_size_x - tile_size_x)\n",
    "            top_left_y = np.random.choice(full_size_y - tile_size_y)\n",
    "            top_left_rescaled = (top_left_x * 2 ** level, top_left_y * 2 ** level)\n",
    "            tile = slide.read_region(\n",
    "                location=top_left_rescaled,\n",
    "                level=level,\n",
    "                size=size\n",
    "            )\n",
    "            if is_useful_tile(tile):\n",
    "                tile.save(os.path.join(destination_path, f'{saved_number:0{d}}_{filename_prefix}_{level}.png'))\n",
    "                saved_number += 1\n",
    "                progress.update(1)"
   ]
  }
 ],
 "metadata": {
  "kernelspec": {
   "display_name": "mtproj",
   "language": "python",
   "name": "mtproj"
  },
  "language_info": {
   "codemirror_mode": {
    "name": "ipython",
    "version": 3
   },
   "file_extension": ".py",
   "mimetype": "text/x-python",
   "name": "python",
   "nbconvert_exporter": "python",
   "pygments_lexer": "ipython3",
   "version": "3.8.3"
  }
 },
 "nbformat": 4,
 "nbformat_minor": 5
}
